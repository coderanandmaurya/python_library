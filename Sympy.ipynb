{
  "nbformat": 4,
  "nbformat_minor": 0,
  "metadata": {
    "colab": {
      "name": "Sympy.ipynb",
      "provenance": [],
      "authorship_tag": "ABX9TyMF+5hL9ZqCT92zXyY2z2HR",
      "include_colab_link": true
    },
    "kernelspec": {
      "name": "python3",
      "display_name": "Python 3"
    },
    "language_info": {
      "name": "python"
    }
  },
  "cells": [
    {
      "cell_type": "markdown",
      "metadata": {
        "id": "view-in-github",
        "colab_type": "text"
      },
      "source": [
        "<a href=\"https://colab.research.google.com/github/coderanandmaurya/python_library/blob/main/Sympy.ipynb\" target=\"_parent\"><img src=\"https://colab.research.google.com/assets/colab-badge.svg\" alt=\"Open In Colab\"/></a>"
      ]
    },
    {
      "cell_type": "markdown",
      "source": [
        "- SymPy is a python module which contains some really cool prime number related library functions. Given below is the list of these functions : \n",
        "\n",
        "  - isprime(n): It tests if n is a prime number (True) or not (False).\n",
        "  - primerange(a, b): It generates a list of all prime numbers in the range [a, b).\n",
        "  - randprime(a, b): It returns a random prime number in the range [a, b).\n",
        "  - primepi(n): It returns the number of prime numbers less than or equal to n.\n",
        "  - prime(nth) : It returns the nth prime, with the primes indexed as prime(1) = 2. The nth prime is approximately n*log(n) and can never be larger than 2**n.\n",
        "  - prevprime(n): It returns the prev prime smaller than n.\n",
        "  - nextprime(n): It returns the next greater prime than n.\n",
        "  - sieve.primerange(a, b): It generates all prime numbers in the range [a, b), implemented as a dynamically growing sieve of Eratosthenes."
      ],
      "metadata": {
        "id": "Jo0bGE4I1P9l"
      }
    },
    {
      "cell_type": "code",
      "execution_count": 4,
      "metadata": {
        "id": "stzha-LX0Xdc"
      },
      "outputs": [],
      "source": [
        "import sympy"
      ]
    },
    {
      "cell_type": "code",
      "source": [
        "print(sympy.nextprime(5))"
      ],
      "metadata": {
        "colab": {
          "base_uri": "https://localhost:8080/"
        },
        "id": "mjq2c0jY2gQk",
        "outputId": "974af152-14c1-4a5f-afde-a7b9c19d71ac"
      },
      "execution_count": 5,
      "outputs": [
        {
          "output_type": "stream",
          "name": "stdout",
          "text": [
            "7\n"
          ]
        }
      ]
    },
    {
      "cell_type": "code",
      "source": [
        "print(sympy.prevprime(5))"
      ],
      "metadata": {
        "colab": {
          "base_uri": "https://localhost:8080/"
        },
        "id": "VyTCiGsV2fJ0",
        "outputId": "4150183b-7f62-4ab9-87e4-34d69e5f7ae4"
      },
      "execution_count": 6,
      "outputs": [
        {
          "output_type": "stream",
          "name": "stdout",
          "text": [
            "3\n"
          ]
        }
      ]
    },
    {
      "cell_type": "code",
      "source": [
        "print(sympy.prime(3))"
      ],
      "metadata": {
        "colab": {
          "base_uri": "https://localhost:8080/"
        },
        "id": "MEwu--M02d2E",
        "outputId": "410b191d-5bc9-4d64-b883-236ef93c2d4c"
      },
      "execution_count": 7,
      "outputs": [
        {
          "output_type": "stream",
          "name": "stdout",
          "text": [
            "5\n"
          ]
        }
      ]
    },
    {
      "cell_type": "code",
      "source": [
        "print(sympy.randprime(0, 10))"
      ],
      "metadata": {
        "colab": {
          "base_uri": "https://localhost:8080/"
        },
        "id": "fPfNtfma2co8",
        "outputId": "3530b2c3-b7a1-471c-f25c-e971be5f8fb9"
      },
      "execution_count": 8,
      "outputs": [
        {
          "output_type": "stream",
          "name": "stdout",
          "text": [
            "7\n"
          ]
        }
      ]
    },
    {
      "cell_type": "code",
      "source": [
        "print(sympy.randprime(0, 10))"
      ],
      "metadata": {
        "colab": {
          "base_uri": "https://localhost:8080/"
        },
        "id": "DaWIKZL72bRk",
        "outputId": "e2deb574-60c5-4bc5-e27b-0d61305288b6"
      },
      "execution_count": 9,
      "outputs": [
        {
          "output_type": "stream",
          "name": "stdout",
          "text": [
            "2\n"
          ]
        }
      ]
    },
    {
      "cell_type": "code",
      "source": [
        "print(list(sympy.primerange(0, 200)))"
      ],
      "metadata": {
        "colab": {
          "base_uri": "https://localhost:8080/"
        },
        "id": "f7LRkPCk2Z4s",
        "outputId": "577f7214-a450-4abc-99be-d01013bc6dfb"
      },
      "execution_count": 10,
      "outputs": [
        {
          "output_type": "stream",
          "name": "stdout",
          "text": [
            "[2, 3, 5, 7, 11, 13, 17, 19, 23, 29, 31, 37, 41, 43, 47, 53, 59, 61, 67, 71, 73, 79, 83, 89, 97, 101, 103, 107, 109, 113, 127, 131, 137, 139, 149, 151, 157, 163, 167, 173, 179, 181, 191, 193, 197, 199]\n"
          ]
        }
      ]
    },
    {
      "cell_type": "code",
      "source": [
        "print(sympy.isprime(3)) "
      ],
      "metadata": {
        "colab": {
          "base_uri": "https://localhost:8080/"
        },
        "id": "x7mjt3MG2Xz9",
        "outputId": "62c7715c-9c17-4d1e-cd25-91bf802725ee"
      },
      "execution_count": 11,
      "outputs": [
        {
          "output_type": "stream",
          "name": "stdout",
          "text": [
            "True\n"
          ]
        }
      ]
    }
  ]
}